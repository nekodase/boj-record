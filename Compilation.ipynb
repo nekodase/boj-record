{
 "cells": [
  {
   "cell_type": "markdown",
   "id": "6defd375-548f-433b-852e-43692090cd04",
   "metadata": {},
   "source": [
    "## Bronze"
   ]
  },
  {
   "cell_type": "markdown",
   "id": "ccf0566c-8b01-4868-bc48-335098b025e1",
   "metadata": {},
   "source": [
    "### <a href=\"https://www.acmicpc.net/problem/25304\">25304</a>  \n",
    "**B5**  \n",
    "Arithmetic, Implementation, Math"
   ]
  },
  {
   "cell_type": "code",
   "execution_count": null,
   "id": "9caec1a2-924d-40ec-8b72-e1c413f2b5dd",
   "metadata": {},
   "outputs": [],
   "source": [
    "total = int(input())\n",
    "n_inputs = int(input())\n",
    "shoplist = []\n",
    "for n in range(n_inputs):\n",
    "    price, count = map(int, input().split())\n",
    "    shoplist.append((price, count))\n",
    "\n",
    "table = ('No', 'Yes')\n",
    "for item_price, item_count in shoplist:\n",
    "    total = total - item_price*item_count\n",
    "\n",
    "print(table[total == 0])"
   ]
  },
  {
   "cell_type": "markdown",
   "id": "403898be-335c-4068-8b3a-e43e2654b1d3",
   "metadata": {},
   "source": [
    "### <a href=\"https://www.acmicpc.net/problem/25305\">25305</a>  \n",
    "**B2**  \n",
    "Implementation, Sorting"
   ]
  },
  {
   "cell_type": "code",
   "execution_count": null,
   "id": "5982f2dc-8ae9-4b42-8cc4-76e142070e26",
   "metadata": {},
   "outputs": [],
   "source": [
    "N, M = map(int, input().split())\n",
    "lst = list(map(int, input().split()))\n",
    "print(sorted(lst)[-M])"
   ]
  },
  {
   "cell_type": "markdown",
   "id": "690e513c-844c-4c6e-bfcd-087ba7552163",
   "metadata": {},
   "source": [
    "### <a href=\"https://www.acmicpc.net/problem/2605\">2605</a>  \n",
    "**B1**  \n",
    "Data Structures, Implementation, Linked List"
   ]
  },
  {
   "cell_type": "code",
   "execution_count": null,
   "id": "ea75546a-eff8-4f5b-92bd-6a55e222767c",
   "metadata": {},
   "outputs": [],
   "source": [
    "N = int(input())\n",
    "q = list(map(int, input().split()))\n",
    "\n",
    "people = [x for x in range(1, 1+N)]\n",
    "queue = []\n",
    "for idx, person in enumerate(people):\n",
    "    queue.insert(len(queue)-q[idx], person)\n",
    "    \n",
    "print(' '.join(map(str, queue)))"
   ]
  },
  {
   "cell_type": "markdown",
   "id": "707253f0-d09a-46c7-8cf9-446959d8c835",
   "metadata": {
    "tags": []
   },
   "source": [
    "## Silver"
   ]
  },
  {
   "cell_type": "markdown",
   "id": "0934af47-16e5-4792-83fa-ca0ce35e90cc",
   "metadata": {
    "tags": []
   },
   "source": [
    "### <a href=\"https://www.acmicpc.net/problem/1789\">1789</a>  \n",
    "**S5**  \n",
    "Greedy Algorithm, Math"
   ]
  },
  {
   "cell_type": "code",
   "execution_count": null,
   "id": "d690e65f-8922-4e4b-8026-07cb9af4a066",
   "metadata": {},
   "outputs": [],
   "source": [
    "N = int(input())\n",
    "i = 0\n",
    "while i*i + i < 2*N+1:\n",
    "    i = i+1\n",
    "print(i-1)"
   ]
  },
  {
   "cell_type": "markdown",
   "id": "87d08ab2-4257-479b-ade3-7b8f0996337e",
   "metadata": {},
   "source": [
    "### <a href=\"https://www.acmicpc.net/problem/17829\">17829</a>  \n",
    "**S2**  \n",
    "Divide and Conquer, Implementation  \n",
    "**Unfinished** - TypeError"
   ]
  },
  {
   "cell_type": "code",
   "execution_count": null,
   "id": "b0f5ff6d-3ea3-4758-ad9b-f424e893976f",
   "metadata": {
    "tags": []
   },
   "outputs": [],
   "source": [
    "N = int(input())\n",
    "image = [list(map(int, input().split())) for _ in N]\n",
    "\n",
    "def MPresult(image, N):\n",
    "    if N == 1:\n",
    "        return image[0][0]\n",
    "    arr = []\n",
    "    for i in range(0, N, 2):\n",
    "        row = []\n",
    "        for j in range(0, N, 2):\n",
    "            row.append(sorted((image[i][j], image[i][j+1], image[i+1][j], image[i+1][j+1]))[-2])\n",
    "        kernel.append(row)\n",
    "    return MPresult(arr, N//2)\n",
    "\n",
    "print(MPresult(image, N))"
   ]
  },
  {
   "cell_type": "markdown",
   "id": "e2e56881-3200-4869-bf9c-2a46e3ad0080",
   "metadata": {
    "tags": []
   },
   "source": [
    "## Gold"
   ]
  },
  {
   "cell_type": "markdown",
   "id": "f49ad21a-91e5-492b-a8b7-8e128488075a",
   "metadata": {},
   "source": [
    "### <a href=\"https://www.acmicpc.net/problem/25306\">25306</a>  \n",
    "**G4**  \n",
    "Math"
   ]
  },
  {
   "cell_type": "code",
   "execution_count": null,
   "id": "0751aa5f-9aca-4572-86a8-ed3552b3e92e",
   "metadata": {},
   "outputs": [],
   "source": [
    "def finder(n):\n",
    "    lst = []\n",
    "    for i in range(60):\n",
    "        if not i:\n",
    "            if n%4 == 1 or n%4 == 2:\n",
    "                lst.insert(0, 1)\n",
    "            else:\n",
    "                lst.insert(0, 0)\n",
    "        else:\n",
    "            if (n//(2**i))%2 and not n%2:\n",
    "                lst.insert(0, 1)\n",
    "            else:\n",
    "                lst.insert(0, 0)\n",
    "    return lst\n",
    "\n",
    "A, B = map(int, input().split())\n",
    "\n",
    "init = list('{:060b}'.format(A^(A+1)))\n",
    "comp = finder(A+1)\n",
    "res = finder(B)\n",
    "\n",
    "for i in range(len(init)):\n",
    "    if int(init[i]) != int(comp[i]):\n",
    "        res[i] = str(int(not res[i]))\n",
    "    else:\n",
    "        res[i] = str(res[i])\n",
    "        \n",
    "print(int(''.join(res), 2))"
   ]
  },
  {
   "cell_type": "markdown",
   "id": "761b8413-9534-4dfd-9231-e32965a1d320",
   "metadata": {
    "tags": []
   },
   "source": [
    "### <a href=\"https://www.acmicpc.net/problem/25307\">25307</a>  \n",
    "**G4**"
   ]
  },
  {
   "cell_type": "code",
   "execution_count": null,
   "id": "eec06e49-ae1d-4022-b7fa-6ff2fcb24c1d",
   "metadata": {},
   "outputs": [],
   "source": []
  }
 ],
 "metadata": {
  "kernelspec": {
   "display_name": "Python 3 (ipykernel)",
   "language": "python",
   "name": "python3"
  },
  "language_info": {
   "codemirror_mode": {
    "name": "ipython",
    "version": 3
   },
   "file_extension": ".py",
   "mimetype": "text/x-python",
   "name": "python",
   "nbconvert_exporter": "python",
   "pygments_lexer": "ipython3",
   "version": "3.10.4"
  }
 },
 "nbformat": 4,
 "nbformat_minor": 5
}
