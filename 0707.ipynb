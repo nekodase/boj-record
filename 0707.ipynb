{
 "cells": [
  {
   "cell_type": "markdown",
   "id": "690e513c-844c-4c6e-bfcd-087ba7552163",
   "metadata": {},
   "source": [
    "### <a href=\"https://www.acmicpc.net/problem/2605\">2605</a>\n"
   ]
  },
  {
   "cell_type": "code",
   "execution_count": 11,
   "id": "ea75546a-eff8-4f5b-92bd-6a55e222767c",
   "metadata": {},
   "outputs": [
    {
     "name": "stdin",
     "output_type": "stream",
     "text": [
      " 5\n",
      " 0 1 1 3 2\n"
     ]
    },
    {
     "name": "stdout",
     "output_type": "stream",
     "text": [
      "4 2 5 3 1\n"
     ]
    }
   ],
   "source": [
    "N = int(input())\n",
    "q = list(map(int, input().split()))\n",
    "\n",
    "people = [x for x in range(1, 1+N)]\n",
    "queue = []\n",
    "for idx, person in enumerate(people):\n",
    "    queue.insert(len(queue)-q[idx], person)\n",
    "    \n",
    "print(' '.join(map(str, queue)))"
   ]
  },
  {
   "cell_type": "markdown",
   "id": "9d6b4536-61ab-4645-90de-886641dcf1d9",
   "metadata": {},
   "source": [
    "## <a href=\"https://www.acmicpc.net/contest/view/833\">Yeonsei OC</a>"
   ]
  },
  {
   "cell_type": "markdown",
   "id": "c5457aa8-dd0d-45c2-9cda-f6b8dbdb7bad",
   "metadata": {},
   "source": [
    "### <a href=\"https://www.acmicpc.net/problem/25304\">25304</a>"
   ]
  },
  {
   "cell_type": "code",
   "execution_count": 23,
   "id": "9caec1a2-924d-40ec-8b72-e1c413f2b5dd",
   "metadata": {},
   "outputs": [
    {
     "name": "stdin",
     "output_type": "stream",
     "text": [
      " 250000\n",
      " 4 \n",
      " 20000 5 \n",
      " 30000 2 \n",
      " 10000 6 \n",
      " 5000 8\n"
     ]
    },
    {
     "name": "stdout",
     "output_type": "stream",
     "text": [
      "No\n"
     ]
    }
   ],
   "source": [
    "total = int(input())\n",
    "n_inputs = int(input())\n",
    "shoplist = []\n",
    "for n in range(n_inputs):\n",
    "    price, count = map(int, input().split())\n",
    "    shoplist.append((price, count))\n",
    "\n",
    "table = ('No', 'Yes')\n",
    "for item_price, item_count in shoplist:\n",
    "    total = total - item_price*item_count\n",
    "\n",
    "print(table[total == 0])"
   ]
  },
  {
   "cell_type": "markdown",
   "id": "8c453f2e-a228-4571-b783-503e23e1556c",
   "metadata": {},
   "source": [
    "### <a href=\"https://www.acmicpc.net/problem/25305\">25305</a>"
   ]
  },
  {
   "cell_type": "code",
   "execution_count": null,
   "id": "5982f2dc-8ae9-4b42-8cc4-76e142070e26",
   "metadata": {},
   "outputs": [],
   "source": [
    "N, M = map(int, input().split())\n",
    "lst = list(map(int, input().split()))\n",
    "print(sorted(lst)[-M])"
   ]
  },
  {
   "cell_type": "markdown",
   "id": "f49ad21a-91e5-492b-a8b7-8e128488075a",
   "metadata": {},
   "source": [
    "### <a href=\"https://www.acmicpc.net/problem/25306\">25306</a>"
   ]
  },
  {
   "cell_type": "code",
   "execution_count": null,
   "id": "0751aa5f-9aca-4572-86a8-ed3552b3e92e",
   "metadata": {},
   "outputs": [],
   "source": [
    "def finder(n):\n",
    "    lst = []\n",
    "    for i in range(60):\n",
    "        if not i:\n",
    "            if n%4 == 1 or n%4 == 2:\n",
    "                lst.insert(0, 1)\n",
    "            else:\n",
    "                lst.insert(0, 0)\n",
    "        else:\n",
    "            if (n//(2**i))%2 and not n%2:\n",
    "                lst.insert(0, 1)\n",
    "            else:\n",
    "                lst.insert(0, 0)\n",
    "    return lst\n",
    "\n",
    "A, B = map(int, input().split())\n",
    "\n",
    "init = list('{:060b}'.format(A^(A+1)))\n",
    "comp = finder(A+1)\n",
    "res = finder(B)\n",
    "\n",
    "for i in range(len(init)):\n",
    "    if int(init[i]) != int(comp[i]):\n",
    "        res[i] = str(int(not res[i]))\n",
    "    else:\n",
    "        res[i] = str(res[i])\n",
    "        \n",
    "print(int(''.join(res), 2))"
   ]
  },
  {
   "cell_type": "markdown",
   "id": "761b8413-9534-4dfd-9231-e32965a1d320",
   "metadata": {
    "tags": []
   },
   "source": [
    "### <a href=\"https://www.acmicpc.net/problem/25307\">25307</a>"
   ]
  },
  {
   "cell_type": "code",
   "execution_count": null,
   "id": "eec06e49-ae1d-4022-b7fa-6ff2fcb24c1d",
   "metadata": {},
   "outputs": [],
   "source": []
  }
 ],
 "metadata": {
  "kernelspec": {
   "display_name": "Python 3 (ipykernel)",
   "language": "python",
   "name": "python3"
  },
  "language_info": {
   "codemirror_mode": {
    "name": "ipython",
    "version": 3
   },
   "file_extension": ".py",
   "mimetype": "text/x-python",
   "name": "python",
   "nbconvert_exporter": "python",
   "pygments_lexer": "ipython3",
   "version": "3.10.4"
  }
 },
 "nbformat": 4,
 "nbformat_minor": 5
}
